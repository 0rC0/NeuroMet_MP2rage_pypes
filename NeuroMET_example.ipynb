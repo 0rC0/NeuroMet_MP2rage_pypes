{
 "cells": [
  {
   "cell_type": "markdown",
   "metadata": {},
   "source": [
    "# NeuroMet"
   ]
  },
  {
   "cell_type": "markdown",
   "metadata": {},
   "source": [
    "## Example directory tree"
   ]
  },
  {
   "cell_type": "raw",
   "metadata": {},
   "source": [
    "tree ./\n",
    "./\n",
    "├── derivatives\n",
    "│   └── Siemens\n",
    "│       └── sub-NeuroMET003\n",
    "│           └── ses-01\n",
    "│               └── anat\n",
    "│                   └── sub-NeuroMET003_ses-01_desc-UNIDEN.nii.gz\n",
    "└── sub-NeuroMET003\n",
    "    └── ses-01\n",
    "        ├── anat\n",
    "        │   └── sub-NeuroMET003_ses-01_T1w.nii.gz\n"
   ]
  },
  {
   "cell_type": "markdown",
   "metadata": {},
   "source": [
    "### External Modules"
   ]
  },
  {
   "cell_type": "code",
   "execution_count": 3,
   "metadata": {},
   "outputs": [],
   "source": [
    "import sys, os, glob \n",
    "sys.path.append(os.path.abspath('./'))\n",
    "#from neuromet import scanner_to_bids\n",
    "from neuromet import NeuroMet2_dev_fs7"
   ]
  },
  {
   "cell_type": "code",
   "execution_count": null,
   "metadata": {},
   "outputs": [],
   "source": [
    "! which recon-all"
   ]
  },
  {
   "cell_type": "code",
   "execution_count": null,
   "metadata": {},
   "outputs": [],
   "source": [
    "from IPython.display import Image\n",
    "%matplotlib inline"
   ]
  },
  {
   "cell_type": "markdown",
   "metadata": {},
   "source": [
    "### Settings"
   ]
  },
  {
   "cell_type": "code",
   "execution_count": null,
   "metadata": {},
   "outputs": [],
   "source": [
    "## Paths\n",
    "base_dir = os.path.join(os.getcwd(), 'NeuroMET')\n",
    "temp_dir = os.path.join(os.getcwd(), 'tmp')\n",
    "\n",
    "#cores\n",
    "cores = 3\n",
    "omp_nthreads = 3\n",
    "\n",
    "#\n",
    "subject_list = ['003T1']\n",
    "\n"
   ]
  },
  {
   "cell_type": "markdown",
   "metadata": {},
   "source": [
    "# SPM Segment and Mask generation"
   ]
  },
  {
   "cell_type": "markdown",
   "metadata": {},
   "source": [
    "### Tissue Segmentation Pipeline"
   ]
  },
  {
   "cell_type": "code",
   "execution_count": null,
   "metadata": {},
   "outputs": [],
   "source": [
    "neuromet = NeuroMet2_dev_fs7.NeuroMet(sublist = subject_list,\n",
    "                            temp_dir = temp_dir,\n",
    "                            bids_root = base_dir,\n",
    "                            omp_nthreads=3)"
   ]
  },
  {
   "cell_type": "code",
   "execution_count": null,
   "metadata": {},
   "outputs": [],
   "source": [
    "neuromet = neuromet.make_neuromet1_workflow()"
   ]
  },
  {
   "cell_type": "code",
   "execution_count": null,
   "metadata": {},
   "outputs": [],
   "source": [
    "neuromet.write_graph(graph2use = 'colored', dotfilename = './imgs/neuromet')\n",
    "Image(filename='./imgs/neuromet.png', width=250)"
   ]
  },
  {
   "cell_type": "code",
   "execution_count": null,
   "metadata": {
    "tags": []
   },
   "outputs": [],
   "source": [
    "%%time\n",
    "neuromet.run('MultiProc', plugin_args={'n_procs': cores})"
   ]
  },
  {
   "cell_type": "markdown",
   "metadata": {},
   "source": [
    "# Combined image and Freesurfer analysis"
   ]
  },
  {
   "cell_type": "code",
   "execution_count": null,
   "metadata": {},
   "outputs": [],
   "source": [
    "print(subject_list)"
   ]
  },
  {
   "cell_type": "code",
   "execution_count": null,
   "metadata": {},
   "outputs": [],
   "source": [
    "#subject_list += ['012T3']\n",
    "subject_list"
   ]
  },
  {
   "cell_type": "code",
   "execution_count": null,
   "metadata": {},
   "outputs": [],
   "source": [
    "import importlib\n",
    "importlib.reload(NeuroMet2_dev_fs7)"
   ]
  },
  {
   "cell_type": "code",
   "execution_count": null,
   "metadata": {},
   "outputs": [],
   "source": []
  },
  {
   "cell_type": "code",
   "execution_count": null,
   "metadata": {},
   "outputs": [],
   "source": [
    "neuromet = NeuroMet2_dev_fs7.NeuroMet(sublist = subject_list,\n",
    "                            temp_dir = temp_dir,\n",
    "                            bids_root = base_dir,\n",
    "                            omp_nthreads=omp_nthreads)\n",
    "neuromet_fs = neuromet.make_neuromet_fs_workflow()"
   ]
  },
  {
   "cell_type": "code",
   "execution_count": null,
   "metadata": {},
   "outputs": [],
   "source": [
    "neuromet_fs.write_graph(graph2use = 'colored', dotfilename = './imgs/neuromet_fs')\n",
    "Image(filename='./imgs/neuromet_fs.png', width=350)"
   ]
  },
  {
   "cell_type": "markdown",
   "metadata": {},
   "source": [
    "**__Before running this step the file derivates/NeuroMET/masks.tsv should be updated with the best mask__**"
   ]
  },
  {
   "cell_type": "code",
   "execution_count": null,
   "metadata": {
    "tags": []
   },
   "outputs": [],
   "source": [
    "%%time\n",
    "neuromet_fs.run('MultiProc', plugin_args={'n_procs': cores})"
   ]
  },
  {
   "cell_type": "markdown",
   "metadata": {},
   "source": [
    "# Extract Volumes"
   ]
  },
  {
   "cell_type": "code",
   "execution_count": null,
   "metadata": {},
   "outputs": [],
   "source": [
    "os.getcwd()"
   ]
  },
  {
   "cell_type": "code",
   "execution_count": null,
   "metadata": {},
   "outputs": [],
   "source": [
    "from neuromet.nodes import stats\n",
    "import pandas as pd"
   ]
  },
  {
   "cell_type": "code",
   "execution_count": null,
   "metadata": {},
   "outputs": [],
   "source": [
    "import importlib\n",
    "importlib.reload(stats)"
   ]
  },
  {
   "cell_type": "code",
   "execution_count": null,
   "metadata": {},
   "outputs": [],
   "source": [
    "q = stats.Stats()"
   ]
  },
  {
   "cell_type": "code",
   "execution_count": null,
   "metadata": {},
   "outputs": [],
   "source": [
    "q.inputs.basedir = os.path.join(base_dir, 'derivatives', 'NeuroMET_FS')\n",
    "q.inputs.fs_dir_template = '/*/*.reconall'"
   ]
  },
  {
   "cell_type": "code",
   "execution_count": null,
   "metadata": {},
   "outputs": [],
   "source": [
    "os.path.join(q.inputs.basedir, '*/*')"
   ]
  },
  {
   "cell_type": "code",
   "execution_count": null,
   "metadata": {},
   "outputs": [],
   "source": [
    "glob.glob(os.path.join(q.inputs.basedir, '*/*.reconall'))"
   ]
  },
  {
   "cell_type": "code",
   "execution_count": null,
   "metadata": {
    "tags": []
   },
   "outputs": [],
   "source": [
    "res = q.run()"
   ]
  },
  {
   "cell_type": "code",
   "execution_count": null,
   "metadata": {},
   "outputs": [],
   "source": [
    "res.outputs.stats_directory"
   ]
  },
  {
   "cell_type": "code",
   "execution_count": null,
   "metadata": {},
   "outputs": [],
   "source": [
    "res.outputs"
   ]
  },
  {
   "cell_type": "code",
   "execution_count": null,
   "metadata": {},
   "outputs": [],
   "source": [
    "dats = [i for i in os.listdir(res.outputs.stats_directory) if i.endswith('.dat')]"
   ]
  },
  {
   "cell_type": "code",
   "execution_count": null,
   "metadata": {},
   "outputs": [],
   "source": [
    "dats"
   ]
  },
  {
   "cell_type": "code",
   "execution_count": null,
   "metadata": {},
   "outputs": [],
   "source": [
    "for i in dats:\n",
    "    i = os.path.join(res.outputs.stats_directory, i)\n",
    "    pd.read_csv(i, sep='\\t').to_excel(i.replace('.dat', '.xlsx'))"
   ]
  },
  {
   "cell_type": "code",
   "execution_count": null,
   "metadata": {},
   "outputs": [],
   "source": [
    "os.path.isdir(res.outputs.stats_directory)"
   ]
  },
  {
   "cell_type": "code",
   "execution_count": null,
   "metadata": {},
   "outputs": [],
   "source": []
  }
 ],
 "metadata": {
  "kernelspec": {
   "display_name": "Python 3 (ipykernel)",
   "language": "python",
   "name": "python3"
  },
  "language_info": {
   "codemirror_mode": {
    "name": "ipython",
    "version": 3
   },
   "file_extension": ".py",
   "mimetype": "text/x-python",
   "name": "python",
   "nbconvert_exporter": "python",
   "pygments_lexer": "ipython3",
   "version": "3.9.7"
  }
 },
 "nbformat": 4,
 "nbformat_minor": 4
}
